{
  "nbformat": 4,
  "nbformat_minor": 0,
  "metadata": {
    "colab": {
      "name": "勉強会7回目",
      "provenance": [],
      "collapsed_sections": []
    },
    "kernelspec": {
      "name": "python3",
      "display_name": "Python 3"
    },
    "language_info": {
      "name": "python"
    }
  },
  "cells": [
    {
      "cell_type": "markdown",
      "source": [
        "#問題1"
      ],
      "metadata": {
        "id": "98vDOmC_4dNs"
      }
    },
    {
      "cell_type": "code",
      "source": [
        "import numpy as np\n",
        "\n",
        "def main():\n",
        "  text=[]\n",
        "  a = ['m', 'c', 'i', 'e', 'p', 'r', 'e', 't', 'o', ' ', 'o', 'o', 'i', 's', 'g', 'o', 'p']\n",
        "  b = ['a', 'h', 'n', ' ', 'e', 'c', 'p', 'i', 'n', 'r', 'b', 't', 'c', '-', 'r', 'u', '!']\n",
        "\n",
        "  text = [x+y for x,y in zip(a,b)]\n",
        "  for ch in text:\n",
        "    print(ch,end=\"\")\n",
        "\n",
        "if __name__==\"__main__\":\n",
        "  main()"
      ],
      "metadata": {
        "colab": {
          "base_uri": "https://localhost:8080/"
        },
        "id": "NgnYuGrF8IUC",
        "outputId": "dc54f31f-540f-4963-d682-00a8f4c37fef"
      },
      "execution_count": null,
      "outputs": [
        {
          "output_type": "stream",
          "name": "stdout",
          "text": [
            "machine perception robotics-group!"
          ]
        }
      ]
    },
    {
      "cell_type": "markdown",
      "source": [
        "#問題2\n",
        "\n"
      ],
      "metadata": {
        "id": "D7UkJMsd-Ghu"
      }
    },
    {
      "cell_type": "code",
      "source": [
        "import numpy as np\n",
        "\n",
        "def main():\n",
        "  pred = np.array([1, 3, 1, 2, 5, 3, 0])\n",
        "  targets = np.array([0, 3, 2, 1, 5, 0, 0])\n",
        "  acc = np.sum( pred == targets ) / len(pred)\n",
        "  acc\n",
        "  #0.42857142857142855 # 目標出力\n",
        "  \n",
        "if __name__==\"__main__\":\n",
        "  main()"
      ],
      "metadata": {
        "colab": {
          "base_uri": "https://localhost:8080/"
        },
        "id": "IJcPP9Kk-InF",
        "outputId": "9505e6ad-d6fa-4ede-9c75-d6fbd343ad59"
      },
      "execution_count": null,
      "outputs": [
        {
          "output_type": "execute_result",
          "data": {
            "text/plain": [
              "0.42857142857142855"
            ]
          },
          "metadata": {},
          "execution_count": 35
        }
      ]
    },
    {
      "cell_type": "markdown",
      "source": [
        "#問題3\n",
        "\n",
        "np.meanで求めたＺなんで0に近似せず値がこんな大きいのかと悩んでいたら、補助単位を見逃しており殆ど０に近いことに気付くまで2時間要しました。\n",
        "\n",
        "スライド問題の部分なのですが、下にこたえ書いて上に隠しでオブジェクト配置するだけですと、上からコピペが可能ですよ(*´▽｀*)（そこの答え間違えてました　np.std(np.mean(X))）になってました！"
      ],
      "metadata": {
        "id": "v94qyL0oCOMx"
      }
    },
    {
      "cell_type": "code",
      "source": [
        "import numpy as np\n",
        "\n",
        "def main():\n",
        "  X = np.random.rand(20, 15)\n",
        "  Z = (X-np.mean(X))/np.std(X)\n",
        "  print(np.mean(Z))\n",
        "  print(np.std(Z))\n",
        "\n",
        "if __name__==\"__main__\":\n",
        "  main()\n"
      ],
      "metadata": {
        "colab": {
          "base_uri": "https://localhost:8080/"
        },
        "id": "6J22TzmqBqrK",
        "outputId": "027342b3-b399-4ec2-8f93-a610421e8e23"
      },
      "execution_count": 2,
      "outputs": [
        {
          "output_type": "stream",
          "name": "stdout",
          "text": [
            "2.102022259956963e-16\n",
            "1.0\n"
          ]
        }
      ]
    }
  ]
}