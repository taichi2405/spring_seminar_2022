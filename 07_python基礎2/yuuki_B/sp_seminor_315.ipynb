{
  "nbformat": 4,
  "nbformat_minor": 0,
  "metadata": {
    "colab": {
      "name": "sp_seminor_315.ipynb",
      "provenance": [],
      "collapsed_sections": [],
      "toc_visible": true
    },
    "kernelspec": {
      "name": "python3",
      "display_name": "Python 3"
    },
    "language_info": {
      "name": "python"
    }
  },
  "cells": [
    {
      "cell_type": "code",
      "execution_count": null,
      "metadata": {
        "id": "p6QMJR6gI_JM"
      },
      "outputs": [],
      "source": [
        "import numpy as np\n"
      ]
    },
    {
      "cell_type": "code",
      "source": [
        "# 1問目\n",
        "a = ['m', 'c', 'i', 'e', 'p', 'r', 'e', 't', 'o', ' ', 'o', 'o', 'i', 's', 'g', 'o', 'p']\n",
        "b = ['a', 'h', 'n', ' ', 'e', 'c', 'p', 'i', 'n', 'r', 'b', 't', 'c', '-', 'r', 'u', '!']\n",
        "\n",
        "text = [a+b for a,b in zip(a,b)]\n",
        "\n",
        "for ch in text:\n",
        "  print(ch,end=\"\")\n",
        "\n"
      ],
      "metadata": {
        "colab": {
          "base_uri": "https://localhost:8080/"
        },
        "id": "wP53pzGvJIS9",
        "outputId": "7fe1729c-29c8-4733-853c-fcef47b30b0d"
      },
      "execution_count": null,
      "outputs": [
        {
          "output_type": "stream",
          "name": "stdout",
          "text": [
            "machine perception robotics-group!"
          ]
        }
      ]
    },
    {
      "cell_type": "code",
      "source": [
        "# 2問目\n",
        "pred = np.array([1,3,1,2,5,3,0])\n",
        "targets = np.array([0,3,2,1,5,0,0])\n",
        "\n",
        "acc = np.sum(pred == targets)/len(pred)\n",
        "\n",
        "acc"
      ],
      "metadata": {
        "colab": {
          "base_uri": "https://localhost:8080/"
        },
        "id": "O60YzYkhXV6c",
        "outputId": "39e2f053-6cdb-4033-d0a4-c689081a89f7"
      },
      "execution_count": null,
      "outputs": [
        {
          "output_type": "execute_result",
          "data": {
            "text/plain": [
              "0.42857142857142855"
            ]
          },
          "metadata": {},
          "execution_count": 4
        }
      ]
    },
    {
      "cell_type": "code",
      "source": [
        "# 3問目\n",
        "X = np.random.rand(20,15)\n",
        "\n",
        "Z = np.array((X-np.mean(X))/np.std(X))\n",
        "\n",
        "\n",
        "#print(X)\n",
        "Zm = np.mean(Z)\n",
        "\n",
        "Zs = np.std(Z)\n",
        "\n",
        "print(Zm)\n",
        "print(Zs)\n"
      ],
      "metadata": {
        "colab": {
          "base_uri": "https://localhost:8080/"
        },
        "id": "mRlg5oTk5akD",
        "outputId": "f092dc4c-2abb-4f25-cf47-41772116ac71"
      },
      "execution_count": null,
      "outputs": [
        {
          "output_type": "stream",
          "name": "stdout",
          "text": [
            "-1.1842378929335004e-17\n",
            "1.0\n"
          ]
        }
      ]
    }
  ]
}