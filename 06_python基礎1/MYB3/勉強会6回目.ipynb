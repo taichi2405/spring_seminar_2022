{
  "nbformat": 4,
  "nbformat_minor": 0,
  "metadata": {
    "colab": {
      "name": "勉強会6回目.ipynb",
      "provenance": [],
      "collapsed_sections": []
    },
    "kernelspec": {
      "name": "python3",
      "display_name": "Python 3"
    },
    "language_info": {
      "name": "python"
    }
  },
  "cells": [
    {
      "cell_type": "markdown",
      "source": [
        "#提出1(課題2）\n"
      ],
      "metadata": {
        "id": "guEyMfzchfaT"
      }
    },
    {
      "cell_type": "code",
      "execution_count": null,
      "metadata": {
        "colab": {
          "base_uri": "https://localhost:8080/",
          "height": 295
        },
        "id": "Dmk83ov8e2b_",
        "outputId": "7a69d74c-8117-4713-8a86-cca0f3105f31"
      },
      "outputs": [
        {
          "output_type": "display_data",
          "data": {
            "text/plain": [
              "<Figure size 432x288 with 1 Axes>"
            ],
            "image/png": "[encoded data removed]"
          },
          "metadata": {
            "needs_background": "light"
          }
        }
      ],
      "source": [
        "import numpy as np\n",
        "import matplotlib.pyplot as plt\n",
        "\n",
        "def sigmoid(x):\n",
        "  return 1/(1+np.exp(-x))\n",
        "\n",
        "def softmax(x):\n",
        "  exp_x = np.exp(x)\n",
        "  sum_exp_x = np.sum(exp_x)\n",
        "  return exp_x/sum_exp_x\n",
        "\n",
        "def tanh(x):\n",
        "  return (np.exp(x) - np.exp(-x)) / (np.exp(x) + np.exp(-x))\n",
        "\n",
        "def main():\n",
        "  x=np.arange(-5.0,5.0,0.1)\n",
        "  plt.plot(x,sigmoid(x),label=\"sigmoid\")\n",
        "  plt.plot(x,softmax(x),label=\"softmax\")\n",
        "  plt.plot(x,tanh(x),label=\"tanh\")\n",
        "  \n",
        "\n",
        "  plt.grid()\n",
        "  plt.legend()\n",
        "  plt.title(\"Multiple Graphs\")\n",
        "  plt.xlabel(\"input\")\n",
        "  plt.ylabel(\"output\")\n",
        "  plt.ylim(-1.2,1.2)\n",
        "  plt.show()\n",
        "\n",
        "if __name__ == \"__main__\":\n",
        "  main()"
      ]
    },
    {
      "cell_type": "markdown",
      "source": [
        "#提出2(課題4）\n",
        "\n",
        "一片サイズ可変可能型（なんかずれてるような・・(´・ω・｀)）"
      ],
      "metadata": {
        "id": "Cewe3huFhmgy"
      }
    },
    {
      "cell_type": "code",
      "source": [
        "from google.colab.patches import cv2_imshow\n",
        "import cv2\n",
        "import math\n",
        "\n",
        "\n",
        "def main():\n",
        "  # 一片のサイズ\n",
        "  n=10\n",
        "\n",
        "  # 画像一片のサイズ\n",
        "  m=500\n",
        "  img = np.zeros((m, m, 3), np.uint8)\n",
        "\n",
        "  center = int(m/2)\n",
        "\n",
        "  tmp=int(n*math.sqrt(3)/4)\n",
        "  print(math.sqrt(3)/4)\n",
        "  pts1 = np.array([(center,center-tmp), (center-tmp,center+tmp), (center+tmp,center+tmp)])\n",
        "\n",
        "  n=n/2\n",
        "  tmp2=int(n*math.sqrt(3)/4)\n",
        "  pts2 = np.array([(center,center+tmp2+tmp2), (center+tmp2,center), (center-tmp2,center)])\n",
        "\n",
        "  cv2.fillPoly(img, [pts1], (0,170,217))\n",
        "  cv2.fillPoly(img, [pts2], (0,0,0))\n",
        "\n",
        "  cv2_imshow(img)\n",
        "\n",
        "if __name__==\"__main__\":\n",
        "  main()\n"
      ],
      "metadata": {
        "colab": {
          "base_uri": "https://localhost:8080/",
          "height": 534
        },
        "id": "ei7HfnRqhwXm",
        "outputId": "61ccf284-21d9-4bbe-f967-0ae3a70eea1f"
      },
      "execution_count": null,
      "outputs": [
        {
          "output_type": "stream",
          "name": "stdout",
          "text": [
            "0.4330127018922193\n"
          ]
        },
        {
          "output_type": "display_data",
          "data": {
            "text/plain": [
              "<PIL.Image.Image image mode=RGB size=500x500 at 0x7F0E3C873B50>"
            ],
            "image/png": "[encoded data removed]"
          },
          "metadata": {}
        }
      ]
    }
  ]
}