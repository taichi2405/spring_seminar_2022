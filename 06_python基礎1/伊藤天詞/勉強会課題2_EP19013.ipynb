{
  "nbformat": 4,
  "nbformat_minor": 0,
  "metadata": {
    "colab": {
      "name": "勉強会課題2_EP19013",
      "provenance": []
    },
    "kernelspec": {
      "name": "python3",
      "display_name": "Python 3"
    },
    "language_info": {
      "name": "python"
    }
  },
  "cells": [
    {
      "cell_type": "code",
      "source": [
        "import matplotlib.pyplot as plt\n",
        "import numpy as np\n",
        "\n",
        "def sigmoid(x):\n",
        "  return 1 / (1 + np.exp(-x))\n",
        "\n",
        "def softmax(x):\n",
        "  exp_x = np.exp(x)\n",
        "  sum_exp_x = np.sum(exp_x)\n",
        "  return exp_x / sum_exp_x\n",
        "\n",
        "def tanh(x):\n",
        "  return (np.exp(x) - np.exp(-x)) / (np.exp(x) + np.exp(-x))\n",
        "\n",
        "\n",
        "x = np.arange(-5.0, 5.0, 0.1)\n",
        "\n",
        "sigmoid = sigmoid(x)\n",
        "softmax = softmax(x)\n",
        "tanh = tanh(x)\n",
        "plt.plot(x, sigmoid)\n",
        "plt.plot(x, softmax)\n",
        "plt.plot(x, tanh)\n",
        "\n",
        "plt.ylim(-1.2, 1.2)\n",
        "\n",
        "plt.plot(x, sigmoid, label ='sigmoid', color = 'red')\n",
        "plt.plot(x, softmax, label ='softmax', color = 'blue')\n",
        "plt.plot(x, tanh, label ='tanh', color = 'green')\n",
        "\n",
        "\n",
        "plt.title('Activation function')\n",
        "plt.xlabel('input')\n",
        "plt.ylabel('output')\n",
        "\n",
        "plt.legend()\n",
        "plt.show()"
      ],
      "metadata": {
        "colab": {
          "base_uri": "https://localhost:8080/",
          "height": 295
        },
        "id": "-ZkZKLttfzOj",
        "outputId": "ef5c3034-2eb4-4861-ffab-a62f90055d26"
      },
      "execution_count": 12,
      "outputs": [
        {
          "output_type": "display_data",
          "data": {
            "text/plain": [
              "<Figure size 432x288 with 1 Axes>"
            ],
            "image/png": "[encoded data removed]"
          },
          "metadata": {
            "needs_background": "light"
          }
        }
      ]
    },
    {
      "cell_type": "code",
      "source": [
        ""
      ],
      "metadata": {
        "id": "gobuM1nNjFta"
      },
      "execution_count": 10,
      "outputs": []
    },
    {
      "cell_type": "code",
      "source": [
        ""
      ],
      "metadata": {
        "id": "vrj72I-RjFjY"
      },
      "execution_count": null,
      "outputs": []
    },
    {
      "cell_type": "code",
      "source": [
        ""
      ],
      "metadata": {
        "id": "9xqX6g_sjFPd"
      },
      "execution_count": null,
      "outputs": []
    },
    {
      "cell_type": "code",
      "source": [
        "import matplotlib.pyplot as plt\n",
        "import numpy as np\n",
        "\n",
        "np.random.seed(1)\n",
        "x=np.random.rand(100)\n",
        "y=np.random.rand(100)\n",
        "\n",
        "plt.scatter(x,y)\n",
        "plt.show\n",
        "\n"
      ],
      "metadata": {
        "colab": {
          "base_uri": "https://localhost:8080/",
          "height": 283
        },
        "id": "mOUfLyFfbPmy",
        "outputId": "4acbdf2f-6c79-4683-ef28-0ff52addae69"
      },
      "execution_count": null,
      "outputs": [
        {
          "output_type": "execute_result",
          "data": {
            "text/plain": [
              "<function matplotlib.pyplot.show>"
            ]
          },
          "metadata": {},
          "execution_count": 6
        },
        {
          "output_type": "display_data",
          "data": {
            "text/plain": [
              "<Figure size 432x288 with 1 Axes>"
            ],
            "image/png": "[encoded data removed]"
          },
          "metadata": {
            "needs_background": "light"
          }
        }
      ]
    },
    {
      "cell_type": "code",
      "source": [
        "def sofomax(x):\n",
        "  return 1/(1+np.exp(-x))\n",
        "\n",
        "x=np.arange(-5.0,5.0,0.1)\n",
        "y=softmax(x)\n",
        "\n",
        "plt.plot(x,y)\n",
        "plt.ylim(-0.01,0.1)\n",
        "plt.show"
      ],
      "metadata": {
        "id": "Pj1BQiqBcX3z"
      },
      "execution_count": null,
      "outputs": []
    }
  ]
}