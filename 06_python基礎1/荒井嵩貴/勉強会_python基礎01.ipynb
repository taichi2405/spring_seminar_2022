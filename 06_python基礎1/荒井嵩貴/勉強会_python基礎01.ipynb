{
  "nbformat": 4,
  "nbformat_minor": 0,
  "metadata": {
    "colab": {
      "name": "勉強会_python基礎01",
      "provenance": []
    },
    "kernelspec": {
      "name": "python3",
      "display_name": "Python 3"
    },
    "language_info": {
      "name": "python"
    }
  },
  "cells": [
    {
      "cell_type": "markdown",
      "source": [
        "課題２"
      ],
      "metadata": {
        "id": "i5QzCmZzk5iz"
      }
    },
    {
      "cell_type": "code",
      "source": [
        "import numpy as np\n",
        "import matplotlib.pyplot as plt\n",
        "\n",
        "def sigmoid(x):\n",
        "  return 1/(1+np.exp(-x))\n",
        "\n",
        "def softmax(x):\n",
        "  exp_x = np.exp(x)\n",
        "  sum_exp_x = np.sum(exp_x)\n",
        "  return exp_x/sum_exp_x\n",
        "\n",
        "def tanh(x):\n",
        "  Ex_P1 = np.exp(x)-np.exp(-x)\n",
        "  Ex_P2 = np.exp(x)+np.exp(-x)\n",
        "  return Ex_P1/Ex_P2\n",
        "\n",
        "x=np.arange(-5.0,5.0,0.1)\n",
        "y1=sigmoid(x)\n",
        "y2=softmax(x)\n",
        "y3=tanh(x)\n",
        "\n",
        "plt.plot(x,y1,label='sigmoid',color='red',alpha=0.5)\n",
        "plt.plot(x,y2,label='softmax',color='green',alpha=0.5)\n",
        "plt.plot(x,y3,label='tanh',color='blue',alpha=0.5)\n",
        "plt.ylim(-1.2,1.2)\n",
        "plt.xlabel('input')\n",
        "plt.ylabel('output')\n",
        "plt.legend()\n",
        "plt.show()"
      ],
      "metadata": {
        "colab": {
          "base_uri": "https://localhost:8080/",
          "height": 279
        },
        "id": "b3lnPpf6k2gX",
        "outputId": "527f64b5-2287-4cf8-bfff-16b61f39745b"
      },
      "execution_count": null,
      "outputs": [
        {
          "output_type": "display_data",
          "data": {
            "text/plain": [
              "<Figure size 432x288 with 1 Axes>"
            ],
            "image/png": "[encoded data removed]"
          },
          "metadata": {
            "needs_background": "light"
          }
        }
      ]
    },
    {
      "cell_type": "markdown",
      "source": [
        "課題4"
      ],
      "metadata": {
        "id": "7RmYws0h4ifk"
      }
    },
    {
      "cell_type": "code",
      "source": [
        "import matplotlib.pyplot as plt\n",
        "import cv2\n",
        "import numpy as np\n",
        "\n",
        "img = np.full((210, 425, 3), 0, dtype=np.uint8)\n",
        "zahyou1 = np.array(((210, 50), (160, 150), (260, 150)))\n",
        "zahyou2 = np.array(((210, 150), (185, 100), (235, 100)))\n",
        "cv2.fillPoly(img, [zahyou1], (255,255,0))\n",
        "cv2.fillPoly(img, [zahyou2], (0,0,0))\n",
        "cv2.waitKey(0)\n",
        "cv2.destroyAllWindows()\n",
        "plt.axis('off')\n",
        "plt.imshow(img)"
      ],
      "metadata": {
        "colab": {
          "base_uri": "https://localhost:8080/",
          "height": 214
        },
        "id": "ECtFaVcn4hD6",
        "outputId": "c04a2fde-6f81-4f40-ab20-888bcb35f79b"
      },
      "execution_count": null,
      "outputs": [
        {
          "output_type": "execute_result",
          "data": {
            "text/plain": [
              "<matplotlib.image.AxesImage at 0x7f34c4e90750>"
            ]
          },
          "metadata": {},
          "execution_count": 48
        },
        {
          "output_type": "display_data",
          "data": {
            "text/plain": [
              "<Figure size 432x288 with 1 Axes>"
            ],
            "image/png": "[encoded data removed]"
          },
          "metadata": {
            "needs_background": "light"
          }
        }
      ]
    }
  ]
}